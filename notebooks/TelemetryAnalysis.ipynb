{
 "cells": [
  {
   "cell_type": "code",
   "execution_count": 1,
   "metadata": {},
   "outputs": [],
   "source": [
    "import pymongo"
   ]
  },
  {
   "cell_type": "code",
   "execution_count": 2,
   "metadata": {},
   "outputs": [
    {
     "name": "stdout",
     "output_type": "stream",
     "text": [
      "{'_id': ObjectId('624256e9fdadc250a603c23c'), 'user_id': '448434', 'user_id_exists': False, 'model_id': 0, 'inference_time': None, 'recommend': 'la+strada+1954,dumb+and+dumber+1994,down+and+out+in+beverly+hills+1986,the+usual+suspects+1995,die+hard+with+a+vengeance+1995,critters+2+1988,la+strada+1954,black+cat_+white+cat+1998,schindlers+list+1993,the+fugitive+1993,female+perversions+1996,rear+window+1954,uncommon+valor+1983,the+shawshank+redemption+1994,waking+life+2001,a+close+shave+1995,uncommon+valor+1983,citizen+kane+1941,4+months_+3+weeks+and+2+days+2007,the+fugitive+1993', 'timestamp': '28/Mar/2022:20:46:23', 'time': datetime.datetime(2022, 3, 29, 0, 46, 23)}\n"
     ]
    }
   ],
   "source": [
    "myclient = pymongo.MongoClient(\"mongodb://localhost:27017/\")\n",
    "mydb = myclient[\"ensemblers_web\"]\n",
    "collection = mydb[\"telemetry_recommend\"]\n",
    "\n",
    "mydoc = collection.find().limit(1)\n",
    "for d in mydoc:\n",
    "    print(d)"
   ]
  },
  {
   "cell_type": "code",
   "execution_count": 50,
   "metadata": {},
   "outputs": [
    {
     "name": "stdout",
     "output_type": "stream",
     "text": [
      "The number of documents in collection for user 448434:  34\n"
     ]
    }
   ],
   "source": [
    "mydoc = collection.count_documents({'user_id': '448434'})\n",
    "print(\"The number of documents in collection for user 448434: \", mydoc) "
   ]
  },
  {
   "cell_type": "code",
   "execution_count": 51,
   "metadata": {},
   "outputs": [
    {
     "name": "stdout",
     "output_type": "stream",
     "text": [
      "{'_id': ObjectId('624256e9fdadc250a603c240'), 'user_id': '112343', 'user_id_exists': True, 'model_id': 0, 'inference_time': 0.0005504116415977478, 'recommend': 'whats+the+worst+that+could+happen+2001,jeepers+creepers+2001,the+prince++me+2+the+royal+wedding+2006,hardball+2001,the+fast+and+the+furious+tokyo+drift+2006,the+nut+job+2014,bubble+boy+2001,dont+say+a+word+2001,glitter+2001,earths+final+hours+2011,what+we+did+on+our+holiday+2014,north+sea+texas+2011,spud+2010,bloodrayne+the+third+reich+2010,forced+vengeance+1982,brooklyn+castle+2012,the+guyver+1991,stay+alive+2006,american+pie+presents+beta+house+2007,million+dollar+mystery+1987', 'timestamp': '28/Mar/2022:20:46:23', 'time': datetime.datetime(2022, 3, 29, 0, 46, 23)}\n",
      "{'_id': ObjectId('624256e9fdadc250a603c243'), 'user_id': '249190', 'user_id_exists': True, 'model_id': 0, 'inference_time': 0.0007990747690200806, 'recommend': 'pinocchio+1940,shes+having+a+baby+1988,spy+kids+3-d+game+over+2003,the+ox-bow+incident+1943,dumbo+1941,cinderella+1950,bambi+1942,singin+in+the+rain+1952,army+of+darkness+1992,the+maltese+falcon+1941,barnyard+2006,the+wizard+of+oz+1939,the+naked+prey+1965,witness+1985,melody+time+1948,journey+to+the+center+of+the+earth+2008,the+black+cauldron+1985,james+and+the+giant+peach+1996,donovans+brain+1953,if+these+walls+could+talk+1996', 'timestamp': '28/Mar/2022:20:46:24', 'time': datetime.datetime(2022, 3, 29, 0, 46, 24)}\n",
      "{'_id': ObjectId('624256e9fdadc250a603c245'), 'user_id': '667562', 'user_id_exists': True, 'model_id': 0, 'inference_time': 0.0005271285772323608, 'recommend': 'shakespeare+in+love+1998,the+land+girls+1998,an+ideal+husband+1999,gods+and+monsters+1998,ghostbusters+1984,frances+1982,entrapment+1999,the+generals+daughter+1999,election+1999,dont+go+in+the+house+1980,my+fair+lady+1964,little+voice+1998,the+city+of+lost+souls+2000,bowfinger+1999,the+dreamlife+of+angels+1998,shadrach+1998,a+civil+action+1998,american+beauty+1999,the+mosquito+coast+1986,austin+powers+the+spy+who+shagged+me+1999', 'timestamp': '28/Mar/2022:20:46:24', 'time': datetime.datetime(2022, 3, 29, 0, 46, 24)}\n",
      "{'_id': ObjectId('624256e9fdadc250a603c24d'), 'user_id': '145083', 'user_id_exists': True, 'model_id': 0, 'inference_time': 0.0005792826414108276, 'recommend': 'affinity+2008,the+legend+of+sleepy+hollow+1949,uncle+buck+1989,why+did+i+get+married+2007,crossed+tracks+2007,shes+out+of+control+1989,the+other+man+2008,ordinary+decent+criminal+2000,apollo+18+2011,night+and+the+city+1950,hot+dog...+the+movie+1984,skin+deep+1989,batman++mr.+freeze+subzero+1998,any+which+way+you+can+1980,three+fugitives+1989,death+before+dishonor+1987,lili+marleen+1981,tap+1989,candy+2006,waynes+world+2+1993', 'timestamp': '28/Mar/2022:20:46:25', 'time': datetime.datetime(2022, 3, 29, 0, 46, 25)}\n",
      "{'_id': ObjectId('624256e9fdadc250a603c255'), 'user_id': '65103', 'user_id_exists': True, 'model_id': 0, 'inference_time': 0.0006295740604400635, 'recommend': 'the+empire+strikes+back+1980,the+matrix+1999,return+of+the+jedi+1983,star+wars+1977,the+terminator+1984,e.t.+the+extra-terrestrial+1982,raiders+of+the+lost+ark+1981,back+to+the+future+part+ii+1989,terminator+2+judgment+day+1991,ferris+buellers+day+off+1986,ghostbusters+1984,aliens+1986,indiana+jones+and+the+last+crusade+1989,men+in+black+1997,back+to+the+future+part+iii+1990,the+lord+of+the+rings+the+fellowship+of+the+ring+2001,star+wars+episode+i+-+the+phantom+menace+1999,alien+1979,forrest+gump+1994,jurassic+park+1993', 'timestamp': '28/Mar/2022:20:46:26', 'time': datetime.datetime(2022, 3, 29, 0, 46, 26)}\n"
     ]
    }
   ],
   "source": [
    "mydoc = collection.find({'user_id_exists': True}).limit(5)\n",
    "for d in mydoc:\n",
    "    print(d)"
   ]
  },
  {
   "cell_type": "code",
   "execution_count": 52,
   "metadata": {},
   "outputs": [
    {
     "name": "stdout",
     "output_type": "stream",
     "text": [
      "The number of documents in collection for user 112343:  36\n"
     ]
    }
   ],
   "source": [
    "mydoc = collection.count_documents({'user_id': '112343'})\n",
    "print(\"The number of documents in collection for user 112343: \", mydoc) "
   ]
  },
  {
   "cell_type": "code",
   "execution_count": 69,
   "metadata": {},
   "outputs": [
    {
     "name": "stdout",
     "output_type": "stream",
     "text": [
      "{'_id': '28/Mar/2022:20:46:26', 'count': 7}\n"
     ]
    }
   ],
   "source": [
    "# myquery = {'timestamp': '28/Mar/2022:20:46:26'}\n",
    "\n",
    "mydoc = collection.aggregate([\n",
    "    {\"$match\":{'timestamp': '28/Mar/2022:20:46:26'}},\n",
    "    {\"$group\" : {\"_id\":\"$timestamp\", \"count\":{\"$sum\":1}}}\n",
    "])\n",
    "for d in mydoc:\n",
    "    print(d)"
   ]
  },
  {
   "cell_type": "code",
   "execution_count": 68,
   "metadata": {},
   "outputs": [
    {
     "name": "stdout",
     "output_type": "stream",
     "text": [
      "{'_id': '07/Apr/2022:20:46:07', 'count': 1}\n",
      "{'_id': '21/Apr/2022:01:52:28', 'count': 1}\n",
      "{'_id': '11/Apr/2022:01:19:33', 'count': 1}\n",
      "{'_id': '30/Mar/2022:02:23:55', 'count': 1}\n",
      "{'_id': '27/Apr/2022:01:37:41', 'count': 1}\n",
      "{'_id': '15/Apr/2022:19:14:56', 'count': 1}\n",
      "{'_id': '18/Apr/2022:00:08:42', 'count': 1}\n",
      "{'_id': '22/Apr/2022:19:15:45', 'count': 1}\n",
      "{'_id': '28/Apr/2022:00:23:23', 'count': 1}\n",
      "{'_id': '07/Apr/2022:04:52:49', 'count': 1}\n",
      "{'_id': '15/Apr/2022:14:59:39', 'count': 1}\n",
      "{'_id': '04/Apr/2022:17:29:11', 'count': 1}\n",
      "{'_id': '26/Apr/2022:14:52:41', 'count': 1}\n",
      "{'_id': '08/Apr/2022:20:29:30', 'count': 1}\n",
      "{'_id': '30/Mar/2022:05:36:38', 'count': 1}\n",
      "{'_id': '31/Mar/2022:03:38:21', 'count': 1}\n",
      "{'_id': '08/Apr/2022:01:01:06', 'count': 1}\n",
      "{'_id': '09/Apr/2022:14:54:40', 'count': 1}\n",
      "{'_id': '09/Apr/2022:22:29:38', 'count': 1}\n",
      "{'_id': '07/Apr/2022:16:33:12', 'count': 1}\n",
      "{'_id': '09/Apr/2022:18:38:59', 'count': 1}\n",
      "{'_id': '28/Mar/2022:20:46:24', 'count': 1}\n",
      "{'_id': '26/Apr/2022:21:46:41', 'count': 1}\n",
      "{'_id': '04/Apr/2022:02:36:23', 'count': 1}\n",
      "{'_id': '15/Apr/2022:22:54:12', 'count': 1}\n",
      "{'_id': '23/Apr/2022:18:59:59', 'count': 1}\n",
      "{'_id': '13/Apr/2022:00:02:16', 'count': 1}\n",
      "{'_id': '05/Apr/2022:16:36:08', 'count': 1}\n",
      "{'_id': '03/Apr/2022:00:00:16', 'count': 1}\n"
     ]
    }
   ],
   "source": [
    "mydoc = collection.aggregate([\n",
    "    {\"$match\":{'user_id': '667562'}},\n",
    "    {\"$group\" : {\"_id\":\"$timestamp\", \"count\":{\"$sum\":1}}},\n",
    "    {\"$sort\":{ \"timestamp\": -1 }}\n",
    "])\n",
    "for d in mydoc:\n",
    "    print(d)"
   ]
  },
  {
   "cell_type": "code",
   "execution_count": 111,
   "metadata": {},
   "outputs": [
    {
     "name": "stdout",
     "output_type": "stream",
     "text": [
      "Number of requests on 28/Mar/2022:20:46 minute = 351\n"
     ]
    }
   ],
   "source": [
    "docs = 0\n",
    "for i in range(60):\n",
    "    i = str(i)\n",
    "    if len(i) == 1:\n",
    "        i = \"0\"+i\n",
    "    mydoc = collection.aggregate([\n",
    "    {\"$match\":{'timestamp': \"28/Mar/2022:20:46:{}\".format(i)}},\n",
    "    {\"$group\" : {\"_id\":\"$timestamp\", \"count\":{\"$sum\":1}}}\n",
    "])\n",
    "    \n",
    "    for d in mydoc:\n",
    "        docs += d['count']\n",
    "print(\"Number of requests on 28/Mar/2022:20:46 minute = {}\".format(docs))"
   ]
  },
  {
   "cell_type": "code",
   "execution_count": 118,
   "metadata": {},
   "outputs": [
    {
     "name": "stdout",
     "output_type": "stream",
     "text": [
      "Number of requests on 30/Mar/2022:05:36 minute = 346\n"
     ]
    }
   ],
   "source": [
    "docs = 0\n",
    "for i in range(60):\n",
    "    i = str(i)\n",
    "    if len(i) == 1:\n",
    "        i = \"0\"+i\n",
    "    mydoc = collection.aggregate([\n",
    "    {\"$match\":{'timestamp': \"30/Mar/2022:05:36:{}\".format(i)}},\n",
    "    {\"$group\" : {\"_id\":\"$timestamp\", \"count\":{\"$sum\":1}}}\n",
    "])\n",
    "    \n",
    "    for d in mydoc:\n",
    "        docs += d['count']\n",
    "print(\"Number of requests on 30/Mar/2022:05:36 minute = {}\".format(docs))"
   ]
  },
  {
   "cell_type": "code",
   "execution_count": 126,
   "metadata": {},
   "outputs": [
    {
     "name": "stdout",
     "output_type": "stream",
     "text": [
      "Number of requests on 03/Apr/2022:00:00 minute = 721\n"
     ]
    }
   ],
   "source": [
    "docs = 0\n",
    "for i in range(60):\n",
    "    i = str(i)\n",
    "    if len(i) == 1:\n",
    "        i = \"0\"+i\n",
    "    mydoc = collection.aggregate([\n",
    "    {\"$match\":{'timestamp': \"03/Apr/2022:00:00:{}\".format(i)}},\n",
    "    {\"$group\" : {\"_id\":\"$timestamp\", \"count\":{\"$sum\":1}}}\n",
    "])\n",
    "    \n",
    "    for d in mydoc:\n",
    "        docs += d['count']\n",
    "print(\"Number of requests on 03/Apr/2022:00:00 minute = {}\".format(docs))"
   ]
  },
  {
   "cell_type": "code",
   "execution_count": 125,
   "metadata": {},
   "outputs": [
    {
     "name": "stdout",
     "output_type": "stream",
     "text": [
      "Number of requests on 30/Mar/2022:05:36 minute = 652\n"
     ]
    }
   ],
   "source": [
    "docs = 0\n",
    "for i in range(60):\n",
    "    i = str(i)\n",
    "    if len(i) == 1:\n",
    "        i = \"0\"+i\n",
    "    mydoc = collection.aggregate([\n",
    "    {\"$match\":{'timestamp': \"28/Apr/2022:00:23:{}\".format(i)}},\n",
    "    {\"$group\" : {\"_id\":\"$timestamp\", \"count\":{\"$sum\":1}}}\n",
    "])\n",
    "    \n",
    "    for d in mydoc:\n",
    "        docs += d['count']\n",
    "print(\"Number of requests on 30/Mar/2022:05:36 minute = {}\".format(docs))"
   ]
  },
  {
   "cell_type": "code",
   "execution_count": null,
   "metadata": {},
   "outputs": [],
   "source": []
  },
  {
   "cell_type": "code",
   "execution_count": 162,
   "metadata": {},
   "outputs": [],
   "source": [
    "user_list = []\n",
    "mydoc = collection.aggregate([\n",
    "    {\"$match\":{'user_id_exists': True}},\n",
    "    {'$limit':1000}\n",
    "])\n",
    "for d in mydoc:\n",
    "    user_list.append(d['user_id'])"
   ]
  },
  {
   "cell_type": "code",
   "execution_count": 163,
   "metadata": {},
   "outputs": [
    {
     "data": {
      "text/plain": [
       "1000"
      ]
     },
     "execution_count": 163,
     "metadata": {},
     "output_type": "execute_result"
    }
   ],
   "source": [
    "len(user_list)"
   ]
  },
  {
   "cell_type": "code",
   "execution_count": 165,
   "metadata": {},
   "outputs": [
    {
     "name": "stdout",
     "output_type": "stream",
     "text": [
      "{'M': 843, 'F': 157}\n"
     ]
    }
   ],
   "source": [
    "import requests\n",
    "import json\n",
    "import time\n",
    "gender_dict = {}\n",
    "for u in user_list:\n",
    "    url = (\"http://128.237.79.25:8080/user/\" + u)\n",
    "    response = requests.request(\"GET\", url)\n",
    "    data = json.loads(response.text)\n",
    "    gender_dict[data['gender']] = gender_dict.get(data['gender'], 0) + 1\n",
    "print(gender_dict)"
   ]
  },
  {
   "cell_type": "code",
   "execution_count": 166,
   "metadata": {},
   "outputs": [
    {
     "name": "stdout",
     "output_type": "stream",
     "text": [
      "{'M': 8365, 'F': 1635}\n"
     ]
    }
   ],
   "source": [
    "user_list = []\n",
    "mydoc = collection.aggregate([\n",
    "    {\"$match\":{'user_id_exists': True}},\n",
    "    {'$limit':10000}\n",
    "])\n",
    "for d in mydoc:\n",
    "    user_list.append(d['user_id'])\n",
    "    \n",
    "gender_dict = {}\n",
    "for u in user_list:\n",
    "    url = (\"http://128.237.79.25:8080/user/\" + u)\n",
    "    response = requests.request(\"GET\", url)\n",
    "    data = json.loads(response.text)\n",
    "    gender_dict[data['gender']] = gender_dict.get(data['gender'], 0) + 1\n",
    "print(gender_dict)"
   ]
  },
  {
   "cell_type": "code",
   "execution_count": 201,
   "metadata": {},
   "outputs": [],
   "source": [
    "#### Checking movie\n",
    "female_movie_list = []\n",
    "male_movie_list = []\n",
    "mydoc = collection.aggregate([\n",
    "    {\"$match\":{'user_id_exists': True}},\n",
    "    {'$limit':1000}\n",
    "])\n",
    "user_list = []\n",
    "for d in mydoc:\n",
    "    if d in user_list:\n",
    "        continue\n",
    "    val = \"{}_$_{}\".format(d['user_id'], d[\"recommend\"])\n",
    "    user_list.append(val)\n",
    "gender_dict = {}\n",
    "for u in user_list:\n",
    "    user, movie_list = u.split(\"_$_\")\n",
    "    url = (\"http://128.237.79.25:8080/user/\" + u)\n",
    "    response = requests.request(\"GET\", url)\n",
    "    data = json.loads(response.text)\n",
    "    if data['gender'] == 'F':\n",
    "        female_movie_list.extend(movie_list.split(\",\"))\n",
    "    if data['gender'] == 'M':\n",
    "        male_movie_list.extend(movie_list.split(\",\"))\n",
    "male_movie_list = list(set(male_movie_list))\n",
    "female_movie_list = list(set(female_movie_list))\n"
   ]
  },
  {
   "cell_type": "code",
   "execution_count": 216,
   "metadata": {},
   "outputs": [
    {
     "data": {
      "text/plain": [
       "5223"
      ]
     },
     "execution_count": 216,
     "metadata": {},
     "output_type": "execute_result"
    }
   ],
   "source": [
    "len(male_movie_list)"
   ]
  },
  {
   "cell_type": "code",
   "execution_count": 222,
   "metadata": {},
   "outputs": [
    {
     "data": {
      "text/plain": [
       "{'Comedy': 1841,\n",
       " 'Horror': 586,\n",
       " 'Mystery': 372,\n",
       " 'Action': 986,\n",
       " 'Drama': 2624,\n",
       " 'Crime': 686,\n",
       " 'Foreign': 101,\n",
       " 'Documentary': 267,\n",
       " 'Thriller': 1182,\n",
       " 'Music': 213,\n",
       " 'TV Movie': 32,\n",
       " 'Adventure': 634,\n",
       " 'Romance': 1022,\n",
       " 'History': 170,\n",
       " 'Family': 464,\n",
       " 'War': 183,\n",
       " 'Fantasy': 370,\n",
       " 'Science Fiction': 484,\n",
       " 'Western': 117,\n",
       " 'Animation': 223}"
      ]
     },
     "execution_count": 222,
     "metadata": {},
     "output_type": "execute_result"
    }
   ],
   "source": [
    "genre_dict = {}\n",
    "for movie in male_movie_list:\n",
    "    url = (\"http://128.237.79.25:8080/movie/\" + movie)\n",
    "    response = requests.request(\"GET\", url)\n",
    "    data = json.loads(response.text)\n",
    "    if 'genres' in data.keys():\n",
    "        for gen in data['genres']:\n",
    "            genre_dict[gen['name']] = genre_dict.get(gen['name'], 0) + 1  \n",
    "genre_dict"
   ]
  },
  {
   "cell_type": "code",
   "execution_count": 223,
   "metadata": {},
   "outputs": [
    {
     "data": {
      "text/plain": [
       "[('Action', 0.1887803944093433),\n",
       " ('Adventure', 0.12138617652690024),\n",
       " ('Animation', 0.04269576871529772),\n",
       " ('Comedy', 0.3524794179590274),\n",
       " ('Crime', 0.13134214053226115),\n",
       " ('Documentary', 0.0511200459506031),\n",
       " ('Drama', 0.5023932605782118),\n",
       " ('Family', 0.08883783266322037),\n",
       " ('Fantasy', 0.07084051311506796),\n",
       " ('Foreign', 0.019337545471950986),\n",
       " ('History', 0.03254834386367988),\n",
       " ('Horror', 0.1121960559065671),\n",
       " ('Music', 0.040781160252728314),\n",
       " ('Mystery', 0.07122343480758185),\n",
       " ('Romance', 0.19567298487459314),\n",
       " ('Science Fiction', 0.09266704958835918),\n",
       " ('TV Movie', 0.006126747080222095),\n",
       " ('Thriller', 0.22630672027570362),\n",
       " ('War', 0.0350373348650201),\n",
       " ('Western', 0.022400919012062034)]"
      ]
     },
     "execution_count": 223,
     "metadata": {},
     "output_type": "execute_result"
    }
   ],
   "source": [
    "# Movies recommended for Male Genders\n",
    "for k, v in genre_dict.items():\n",
    "    genre_dict[k] = v/len(male_movie_list)\n",
    "    \n",
    "sorted(genre_dict.items())"
   ]
  },
  {
   "cell_type": "code",
   "execution_count": 224,
   "metadata": {},
   "outputs": [
    {
     "data": {
      "text/plain": [
       "[('Action', 0.18305084745762712),\n",
       " ('Adventure', 0.1327683615819209),\n",
       " ('Animation', 0.04180790960451977),\n",
       " ('Comedy', 0.3734463276836158),\n",
       " ('Crime', 0.1271186440677966),\n",
       " ('Documentary', 0.031073446327683617),\n",
       " ('Drama', 0.5271186440677966),\n",
       " ('Family', 0.10903954802259887),\n",
       " ('Fantasy', 0.07909604519774012),\n",
       " ('Foreign', 0.014689265536723164),\n",
       " ('History', 0.031073446327683617),\n",
       " ('Horror', 0.07966101694915254),\n",
       " ('Music', 0.0480225988700565),\n",
       " ('Mystery', 0.0655367231638418),\n",
       " ('Romance', 0.24689265536723165),\n",
       " ('Science Fiction', 0.07344632768361582),\n",
       " ('TV Movie', 0.003389830508474576),\n",
       " ('Thriller', 0.207909604519774),\n",
       " ('War', 0.02711864406779661),\n",
       " ('Western', 0.01807909604519774)]"
      ]
     },
     "execution_count": 224,
     "metadata": {},
     "output_type": "execute_result"
    }
   ],
   "source": [
    "# Movies recommended for Female Genders\n",
    "\n",
    "genre_dict = {}\n",
    "for movie in female_movie_list:\n",
    "    url = (\"http://128.237.79.25:8080/movie/\" + movie)\n",
    "    response = requests.request(\"GET\", url)\n",
    "    data = json.loads(response.text)\n",
    "    if 'genres' in data.keys():\n",
    "        for gen in data['genres']:\n",
    "            genre_dict[gen['name']] = genre_dict.get(gen['name'], 0) + 1  \n",
    "for k, v in genre_dict.items():\n",
    "    genre_dict[k] = v/len(female_movie_list)\n",
    "    \n",
    "sorted(genre_dict.items())"
   ]
  },
  {
   "cell_type": "code",
   "execution_count": null,
   "metadata": {},
   "outputs": [],
   "source": []
  },
  {
   "cell_type": "code",
   "execution_count": 229,
   "metadata": {},
   "outputs": [
    {
     "data": {
      "text/plain": [
       "[('K-12 student', 1.263157894736842),\n",
       " ('academic/educator', 1.4210526315789473),\n",
       " ('artist', 0.7894736842105263),\n",
       " ('clerical/admin', 0.47368421052631576),\n",
       " ('college/grad student', 11.68421052631579),\n",
       " ('customer service', 0.21052631578947367),\n",
       " ('doctor/health care', 0.15789473684210525),\n",
       " ('executive/managerial', 8.894736842105264),\n",
       " ('homemaker', 0.8421052631578947),\n",
       " ('lawyer', 0.10526315789473684),\n",
       " ('other or not specified', 2.3684210526315788),\n",
       " ('programmer', 0.8421052631578947),\n",
       " ('retired', 0.3684210526315789),\n",
       " ('sales/marketing', 6.894736842105263),\n",
       " ('scientist', 3.9473684210526314),\n",
       " ('self-employed', 2.789473684210526),\n",
       " ('technician/engineer', 0.8421052631578947),\n",
       " ('tradesman/craftsman', 0.42105263157894735),\n",
       " ('unemployed', 0.05263157894736842)]"
      ]
     },
     "execution_count": 229,
     "metadata": {},
     "output_type": "execute_result"
    }
   ],
   "source": [
    "#### Checking occupations\n",
    "female_occupation_dict = {}\n",
    "male_occupation_dict = {}\n",
    "mydoc = collection.aggregate([\n",
    "    {\"$match\":{'user_id_exists': True}},\n",
    "    {'$limit':1000}\n",
    "])\n",
    "user_list = []\n",
    "for d in mydoc:\n",
    "    if d in user_list:\n",
    "        continue\n",
    "    val = \"{}_$_{}\".format(d['user_id'], d[\"recommend\"])\n",
    "    user_list.append(val)\n",
    "gender_dict = {}\n",
    "for u in user_list:\n",
    "    user, movie_list = u.split(\"_$_\")\n",
    "    url = (\"http://128.237.79.25:8080/user/\" + u)\n",
    "    response = requests.request(\"GET\", url)\n",
    "    data = json.loads(response.text)\n",
    "    if data['gender'] == 'F':\n",
    "        female_occupation_dict[data['occupation']] = female_occupation_dict.get(data['occupation'], 0) + 1\n",
    "    else:\n",
    "        male_occupation_dict[data['occupation']] = male_occupation_dict.get(data['occupation'], 0) + 1\n",
    "\n",
    "for k, v in female_occupation_dict.items():\n",
    "    female_occupation_dict[k] = v/len(female_occupation_dict)\n",
    "    \n",
    "for k, v in male_occupation_dict.items():\n",
    "    male_occupation_dict[k] = v/len(male_occupation_dict)\n",
    "    \n",
    "\n",
    "sorted(male_occupation_dict.items())"
   ]
  },
  {
   "cell_type": "code",
   "execution_count": 230,
   "metadata": {},
   "outputs": [
    {
     "data": {
      "text/plain": [
       "[('K-12 student', 0.6153846153846154),\n",
       " ('academic/educator', 1.5384615384615385),\n",
       " ('artist', 0.38461538461538464),\n",
       " ('clerical/admin', 0.07692307692307693),\n",
       " ('college/grad student', 2.8461538461538463),\n",
       " ('executive/managerial', 0.9230769230769231),\n",
       " ('homemaker', 0.46153846153846156),\n",
       " ('other or not specified', 1.4615384615384615),\n",
       " ('retired', 0.5384615384615384),\n",
       " ('sales/marketing', 1.0),\n",
       " ('scientist', 0.9230769230769231),\n",
       " ('self-employed', 1.1538461538461537),\n",
       " ('writer', 0.15384615384615385)]"
      ]
     },
     "execution_count": 230,
     "metadata": {},
     "output_type": "execute_result"
    }
   ],
   "source": [
    "sorted(female_occupation_dict.items())"
   ]
  },
  {
   "cell_type": "code",
   "execution_count": null,
   "metadata": {},
   "outputs": [],
   "source": []
  },
  {
   "cell_type": "code",
   "execution_count": null,
   "metadata": {},
   "outputs": [],
   "source": []
  },
  {
   "cell_type": "code",
   "execution_count": null,
   "metadata": {},
   "outputs": [],
   "source": []
  },
  {
   "cell_type": "code",
   "execution_count": 252,
   "metadata": {},
   "outputs": [],
   "source": [
    "#### Checking age distribution\n",
    "\n",
    "less_than_25_dict = {}\n",
    "between_26_and_33_dict = {}\n",
    "over_33_dict = {}\n",
    "mydoc = collection.aggregate([\n",
    "    {\"$match\":{'user_id_exists': True}},\n",
    "    {'$limit':1000}\n",
    "])\n",
    "user_list = []\n",
    "for d in mydoc:\n",
    "    if d in user_list:\n",
    "        continue\n",
    "    val = \"{}_$_{}\".format(d['user_id'], d[\"recommend\"])\n",
    "    user_list.append(val)\n",
    "gender_dict = {}\n",
    "for u in user_list:\n",
    "    user, movie_list = u.split(\"_$_\")\n",
    "    url = (\"http://128.237.79.25:8080/user/\" + u)\n",
    "    response = requests.request(\"GET\", url)\n",
    "    data = json.loads(response.text)\n",
    "    if data['age'] <= 25:\n",
    "        less_than_25_dict[data['age']] = less_than_25_dict.get(data['age'], 0) + 1\n",
    "    elif 26<= data['age'] <= 33:\n",
    "        between_26_and_33_dict[data['age']] = between_26_and_33_dict.get(data['age'], 0) + 1\n",
    "    else:\n",
    "        over_33_dict[data['age']] = over_33_dict.get(data['age'], 0) + 1"
   ]
  },
  {
   "cell_type": "code",
   "execution_count": 253,
   "metadata": {},
   "outputs": [
    {
     "data": {
      "text/plain": [
       "'Number of users less than 25 years of age : 174'"
      ]
     },
     "execution_count": 253,
     "metadata": {},
     "output_type": "execute_result"
    }
   ],
   "source": [
    "(\"Number of users less than 25 years of age : {}\".format(sum(less_than_25_dict.values())))"
   ]
  },
  {
   "cell_type": "code",
   "execution_count": 254,
   "metadata": {},
   "outputs": [
    {
     "data": {
      "text/plain": [
       "'Number of users between 26 and 33 years : 664'"
      ]
     },
     "execution_count": 254,
     "metadata": {},
     "output_type": "execute_result"
    }
   ],
   "source": [
    "(\"Number of users between 26 and 33 years : {}\".format(sum(between_26_and_33_dict.values())))"
   ]
  },
  {
   "cell_type": "code",
   "execution_count": 255,
   "metadata": {},
   "outputs": [
    {
     "data": {
      "text/plain": [
       "'Number of users over 33 years : 162'"
      ]
     },
     "execution_count": 255,
     "metadata": {},
     "output_type": "execute_result"
    }
   ],
   "source": [
    "(\"Number of users over 33 years : {}\".format(sum(over_33_dict.values())))"
   ]
  },
  {
   "cell_type": "code",
   "execution_count": null,
   "metadata": {},
   "outputs": [],
   "source": []
  },
  {
   "cell_type": "code",
   "execution_count": null,
   "metadata": {},
   "outputs": [],
   "source": []
  },
  {
   "cell_type": "code",
   "execution_count": 4,
   "metadata": {},
   "outputs": [
    {
     "name": "stdout",
     "output_type": "stream",
     "text": [
      "{'_id': ObjectId('624256e9fdadc250a603c240'), 'user_id': '112343', 'user_id_exists': True, 'model_id': 0, 'inference_time': 0.0005504116415977478, 'recommend': 'whats+the+worst+that+could+happen+2001,jeepers+creepers+2001,the+prince++me+2+the+royal+wedding+2006,hardball+2001,the+fast+and+the+furious+tokyo+drift+2006,the+nut+job+2014,bubble+boy+2001,dont+say+a+word+2001,glitter+2001,earths+final+hours+2011,what+we+did+on+our+holiday+2014,north+sea+texas+2011,spud+2010,bloodrayne+the+third+reich+2010,forced+vengeance+1982,brooklyn+castle+2012,the+guyver+1991,stay+alive+2006,american+pie+presents+beta+house+2007,million+dollar+mystery+1987', 'timestamp': '28/Mar/2022:20:46:23', 'time': datetime.datetime(2022, 3, 29, 0, 46, 23)}\n"
     ]
    }
   ],
   "source": [
    "mydoc = collection.find({'user_id_exists': True}).limit(1)\n",
    "for d in mydoc:\n",
    "    print(d)"
   ]
  },
  {
   "cell_type": "code",
   "execution_count": 20,
   "metadata": {},
   "outputs": [],
   "source": [
    "#Inference Time\n",
    "\n",
    "docs = 0\n",
    "mydoc = collection.aggregate([\n",
    "    {\"$match\":{'inference_time': {\"$gte\" : 1.0}}}\n",
    "])"
   ]
  },
  {
   "cell_type": "code",
   "execution_count": 21,
   "metadata": {},
   "outputs": [
    {
     "name": "stdout",
     "output_type": "stream",
     "text": [
      "Number of requests which took more than 1 second for inference : 24\n"
     ]
    }
   ],
   "source": [
    "count = 0\n",
    "for d in mydoc:\n",
    "    count += 1\n",
    "print(\"Number of requests which took more than 1 second for inference : {}\".format(count))"
   ]
  },
  {
   "cell_type": "code",
   "execution_count": 22,
   "metadata": {},
   "outputs": [
    {
     "name": "stdout",
     "output_type": "stream",
     "text": [
      "Number of requests which took more than 0.5 seconds for inference : 50\n"
     ]
    }
   ],
   "source": [
    "#Inference Time\n",
    "\n",
    "docs = 0\n",
    "mydoc = collection.aggregate([\n",
    "    {\"$match\":{'inference_time': {\"$gte\" : 0.5}}}\n",
    "])\n",
    "count = 0\n",
    "for d in mydoc:\n",
    "    count += 1\n",
    "print(\"Number of requests which took more than 0.5 seconds for inference : {}\".format(count))"
   ]
  },
  {
   "cell_type": "code",
   "execution_count": 23,
   "metadata": {},
   "outputs": [
    {
     "name": "stdout",
     "output_type": "stream",
     "text": [
      "Number of requests which took more than 0.1 seconds for inference : 501\n"
     ]
    }
   ],
   "source": [
    "#Inference Time\n",
    "\n",
    "docs = 0\n",
    "mydoc = collection.aggregate([\n",
    "    {\"$match\":{'inference_time': {\"$gte\" : 0.1}}}\n",
    "])\n",
    "count = 0\n",
    "for d in mydoc:\n",
    "    count += 1\n",
    "print(\"Number of requests which took more than 0.1 seconds for inference : {}\".format(count))"
   ]
  },
  {
   "cell_type": "code",
   "execution_count": null,
   "metadata": {},
   "outputs": [],
   "source": []
  }
 ],
 "metadata": {
  "kernelspec": {
   "display_name": "Python 3",
   "language": "python",
   "name": "python3"
  },
  "language_info": {
   "codemirror_mode": {
    "name": "ipython",
    "version": 3
   },
   "file_extension": ".py",
   "mimetype": "text/x-python",
   "name": "python",
   "nbconvert_exporter": "python",
   "pygments_lexer": "ipython3",
   "version": "3.8.3"
  }
 },
 "nbformat": 4,
 "nbformat_minor": 4
}
