{
 "cells": [
  {
   "cell_type": "code",
   "execution_count": 1,
   "id": "7fa71fa3",
   "metadata": {},
   "outputs": [],
   "source": [
    "import os\n",
    "\n",
    "import numpy as np\n",
    "import pandas as pd\n",
    "from scipy.sparse import csr_matrix\n",
    "from sklearn.neighbors import NearestNeighbors\n",
    "import requests"
   ]
  },
  {
   "cell_type": "code",
   "execution_count": 2,
   "id": "920709bc",
   "metadata": {},
   "outputs": [],
   "source": [
    "def create_matrix(df):\n",
    "    N = len(df['userId'].unique())\n",
    "    M = len(df['movieId'].unique())\n",
    "\n",
    "    # Map Ids to indices\n",
    "    user_mapper = dict(zip(np.unique(df[\"userId\"]), list(range(N))))\n",
    "    movie_mapper = dict(zip(np.unique(df[\"movieId\"]), list(range(M))))\n",
    "\n",
    "    # Map indices to IDs\n",
    "    user_inv_mapper = dict(zip(list(range(N)), np.unique(df[\"userId\"])))\n",
    "    movie_inv_mapper = dict(zip(list(range(M)), np.unique(df[\"movieId\"])))\n",
    "\n",
    "    user_index = [user_mapper[i] for i in df['userId']]\n",
    "    movie_index = [movie_mapper[i] for i in df['movieId']]\n",
    "\n",
    "    X = csr_matrix((df[\"rating\"], (movie_index, user_index)), shape=(M, N))\n",
    "\n",
    "    return X, user_mapper, movie_mapper, user_inv_mapper, movie_inv_mapper\n",
    "\n",
    "\n",
    "def find_similar_movies(movie_id, X, k, movie_mapper, movie_inv_mapper, metric='cosine', show_distance=False):\n",
    "    neighbour_ids = []\n",
    "\n",
    "    movie_ind = movie_mapper[movie_id]\n",
    "    movie_vec = X[movie_ind]\n",
    "    k += 1\n",
    "    kNN = NearestNeighbors(n_neighbors=k, algorithm=\"brute\", metric=metric)\n",
    "    kNN.fit(X)\n",
    "    movie_vec = movie_vec.reshape(1, -1)\n",
    "    neighbour = kNN.kneighbors(movie_vec, return_distance=show_distance)\n",
    "    for i in range(0, k):\n",
    "        n = neighbour.item(i)\n",
    "        neighbour_ids.append(movie_inv_mapper[n])\n",
    "    neighbour_ids.pop(0)\n",
    "    return neighbour_ids"
   ]
  },
  {
   "cell_type": "code",
   "execution_count": 3,
   "id": "0aa0e3c1",
   "metadata": {},
   "outputs": [],
   "source": [
    "def separate_train_test(movie_db):\n",
    "    freq_db = movie_db.groupby(\"userId\").filter(lambda x: len(x) >= 5)\n",
    "    freq_db['rank_latest'] = freq_db.groupby(['userId'])['rating'].rank(method='first', ascending=False)\n",
    "    \n",
    "    train = freq_db[freq_db['rank_latest'] != 1]\n",
    "    test  = freq_db[freq_db['rank_latest'] == 1]\n",
    "    \n",
    "    return train, test"
   ]
  },
  {
   "cell_type": "code",
   "execution_count": 4,
   "id": "c3e5e2c7",
   "metadata": {},
   "outputs": [],
   "source": [
    "def train(train_data):\n",
    "    ratings = train_data\n",
    "    X, user_mapper, movie_mapper, user_inv_mapper, movie_inv_mapper = create_matrix(ratings)\n",
    "    return X, user_mapper, movie_mapper, user_inv_mapper, movie_inv_mapper\n"
   ]
  },
  {
   "cell_type": "code",
   "execution_count": 5,
   "id": "c06e35de",
   "metadata": {},
   "outputs": [],
   "source": [
    "rating =  pd.read_csv(\"rating.csv\", names= [\"userId\", \"movieId\", \"rating\"] , header = None)\n",
    "db_train, db_test = separate_train_test(rating)\n",
    "X, user_mapper, movie_mapper, user_inv_mapper, movie_inv_mapper = train(db_train)"
   ]
  },
  {
   "cell_type": "code",
   "execution_count": 6,
   "id": "32239e8b",
   "metadata": {},
   "outputs": [
    {
     "data": {
      "text/html": [
       "<div>\n",
       "<style scoped>\n",
       "    .dataframe tbody tr th:only-of-type {\n",
       "        vertical-align: middle;\n",
       "    }\n",
       "\n",
       "    .dataframe tbody tr th {\n",
       "        vertical-align: top;\n",
       "    }\n",
       "\n",
       "    .dataframe thead th {\n",
       "        text-align: right;\n",
       "    }\n",
       "</style>\n",
       "<table border=\"1\" class=\"dataframe\">\n",
       "  <thead>\n",
       "    <tr style=\"text-align: right;\">\n",
       "      <th></th>\n",
       "      <th>userId</th>\n",
       "      <th>movieId</th>\n",
       "      <th>rating</th>\n",
       "      <th>rank_latest</th>\n",
       "    </tr>\n",
       "  </thead>\n",
       "  <tbody>\n",
       "    <tr>\n",
       "      <th>6</th>\n",
       "      <td>291504</td>\n",
       "      <td>pretty+woman+1990</td>\n",
       "      <td>4</td>\n",
       "      <td>1.0</td>\n",
       "    </tr>\n",
       "    <tr>\n",
       "      <th>13</th>\n",
       "      <td>597885</td>\n",
       "      <td>invasion+of+the+body+snatchers+1956</td>\n",
       "      <td>5</td>\n",
       "      <td>1.0</td>\n",
       "    </tr>\n",
       "    <tr>\n",
       "      <th>16</th>\n",
       "      <td>851114</td>\n",
       "      <td>rush+hour+1998</td>\n",
       "      <td>4</td>\n",
       "      <td>1.0</td>\n",
       "    </tr>\n",
       "    <tr>\n",
       "      <th>17</th>\n",
       "      <td>408433</td>\n",
       "      <td>the+bourne+identity+2002</td>\n",
       "      <td>5</td>\n",
       "      <td>1.0</td>\n",
       "    </tr>\n",
       "    <tr>\n",
       "      <th>18</th>\n",
       "      <td>923906</td>\n",
       "      <td>richard+iii+1995</td>\n",
       "      <td>5</td>\n",
       "      <td>1.0</td>\n",
       "    </tr>\n",
       "  </tbody>\n",
       "</table>\n",
       "</div>"
      ],
      "text/plain": [
       "    userId                              movieId  rating  rank_latest\n",
       "6   291504                    pretty+woman+1990       4          1.0\n",
       "13  597885  invasion+of+the+body+snatchers+1956       5          1.0\n",
       "16  851114                       rush+hour+1998       4          1.0\n",
       "17  408433             the+bourne+identity+2002       5          1.0\n",
       "18  923906                     richard+iii+1995       5          1.0"
      ]
     },
     "execution_count": 6,
     "metadata": {},
     "output_type": "execute_result"
    }
   ],
   "source": [
    "db_test.head()"
   ]
  },
  {
   "cell_type": "code",
   "execution_count": 7,
   "id": "19e3bff7",
   "metadata": {},
   "outputs": [],
   "source": [
    "num_rec = 20\n",
    "def simple_check(X, movie_mapper, movie_inv_mapper, user_id, target_movie):\n",
    "    movie_id = db_train[db_train['userId'] == user_id].iloc[-1]['movieId']\n",
    "    similar_ids = find_similar_movies(movie_id, X, num_rec, movie_mapper, movie_inv_mapper)\n",
    "#     rec = \",\".join(similar_ids)\n",
    "    return target_movie in similar_ids"
   ]
  },
  {
   "cell_type": "code",
   "execution_count": 8,
   "id": "3defed1f",
   "metadata": {},
   "outputs": [],
   "source": [
    "total_smaple = 10000\n",
    "small_db_test = db_test.sample(n = total_smaple)\n",
    "small_db_test['hit'] = small_db_test.apply(lambda f:\n",
    "                             simple_check(X, movie_mapper, movie_inv_mapper, f['userId'], f['movieId']), axis  =1)"
   ]
  },
  {
   "cell_type": "code",
   "execution_count": 13,
   "id": "556cc8c7",
   "metadata": {},
   "outputs": [],
   "source": [
    "hit_rate = (small_db_test[small_db_test['hit']== True].count() / total_smaple)[0]"
   ]
  },
  {
   "cell_type": "code",
   "execution_count": 17,
   "id": "eaf43049",
   "metadata": {},
   "outputs": [
    {
     "name": "stdout",
     "output_type": "stream",
     "text": [
      "hit rate @ 20 is 0.0904\n"
     ]
    }
   ],
   "source": [
    "print('hit rate @ {} is {}'.format(num_rec, hit_rate))\n"
   ]
  },
  {
   "cell_type": "code",
   "execution_count": 18,
   "id": "c8e9fbe7",
   "metadata": {},
   "outputs": [
    {
     "data": {
      "text/plain": [
       "0.0904"
      ]
     },
     "execution_count": 18,
     "metadata": {},
     "output_type": "execute_result"
    }
   ],
   "source": [
    "hit_rate"
   ]
  },
  {
   "cell_type": "code",
   "execution_count": null,
   "id": "35a842c0",
   "metadata": {},
   "outputs": [],
   "source": []
  }
 ],
 "metadata": {
  "kernelspec": {
   "display_name": "Python 3 (ipykernel)",
   "language": "python",
   "name": "python3"
  },
  "language_info": {
   "codemirror_mode": {
    "name": "ipython",
    "version": 3
   },
   "file_extension": ".py",
   "mimetype": "text/x-python",
   "name": "python",
   "nbconvert_exporter": "python",
   "pygments_lexer": "ipython3",
   "version": "3.8.10"
  }
 },
 "nbformat": 4,
 "nbformat_minor": 5
}
