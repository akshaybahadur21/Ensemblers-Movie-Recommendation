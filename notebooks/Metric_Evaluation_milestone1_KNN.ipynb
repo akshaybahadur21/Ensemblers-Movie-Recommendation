{
 "cells": [
  {
   "cell_type": "code",
   "execution_count": 13,
   "metadata": {
    "collapsed": true
   },
   "outputs": [],
   "source": [
    "import os\n",
    "\n",
    "import numpy as np\n",
    "import pandas as pd\n",
    "from scipy.sparse import csr_matrix\n",
    "from sklearn.neighbors import NearestNeighbors\n",
    "import requests\n",
    "\n",
    "\n",
    "def create_matrix(df):\n",
    "    N = len(df['userId'].unique())\n",
    "    M = len(df['movieId'].unique())\n",
    "\n",
    "    # Map Ids to indices\n",
    "    user_mapper = dict(zip(np.unique(df[\"userId\"]), list(range(N))))\n",
    "    movie_mapper = dict(zip(np.unique(df[\"movieId\"]), list(range(M))))\n",
    "\n",
    "    # Map indices to IDs\n",
    "    user_inv_mapper = dict(zip(list(range(N)), np.unique(df[\"userId\"])))\n",
    "    movie_inv_mapper = dict(zip(list(range(M)), np.unique(df[\"movieId\"])))\n",
    "\n",
    "    user_index = [user_mapper[i] for i in df['userId']]\n",
    "    movie_index = [movie_mapper[i] for i in df['movieId']]\n",
    "\n",
    "    X = csr_matrix((df[\"rating\"], (movie_index, user_index)), shape=(M, N))\n",
    "\n",
    "    return X, user_mapper, movie_mapper, user_inv_mapper, movie_inv_mapper\n",
    "\n",
    "\n",
    "def find_similar_movies(movie_id, X, k, movie_mapper, movie_inv_mapper, metric='cosine', show_distance=False):\n",
    "    neighbour_ids = []\n",
    "\n",
    "    movie_ind = movie_mapper[movie_id]\n",
    "    movie_vec = X[movie_ind]\n",
    "    k += 1\n",
    "    kNN = NearestNeighbors(n_neighbors=k, algorithm=\"brute\", metric=metric)\n",
    "    kNN.fit(X)\n",
    "    movie_vec = movie_vec.reshape(1, -1)\n",
    "    neighbour = kNN.kneighbors(movie_vec, return_distance=show_distance)\n",
    "    for i in range(0, k):\n",
    "        n = neighbour.item(i)\n",
    "        neighbour_ids.append(movie_inv_mapper[n])\n",
    "    neighbour_ids.pop(0)\n",
    "    return neighbour_ids\n",
    "\n",
    "def train():\n",
    "    rating =  pd.read_csv(\"rating.csv\", names= [\"userId\", \"movieId\", \"rating\"] , header = None)\n",
    "    ratings = rating\n",
    "    X, user_mapper, movie_mapper, user_inv_mapper, movie_inv_mapper = create_matrix(ratings)\n",
    "    return X, user_mapper, movie_mapper, user_inv_mapper, movie_inv_mapper\n",
    "\n",
    "def cache(X, movie_mapper, movie_inv_mapper):\n",
    "    print(\"Starting the cache\")\n",
    "    rating = pd.read_csv(\"rating.csv\",\n",
    "                         names=[\"userId\", \"movieId\", \"rating\"], header=None)\n",
    "    # For all users in rating\n",
    "\n",
    "    api_dict = {\n",
    "        \"api_key\": \"\",\n",
    "        \"user_recommendations\": []\n",
    "    }\n",
    "    count = 0\n",
    "    for user_id in rating['userId'].unique():\n",
    "        try:\n",
    "            movie_id = rating[rating['userId'] == user_id].iloc[-1]['movieId']\n",
    "            similar_ids = find_similar_movies(movie_id, X, 50, movie_mapper, movie_inv_mapper)\n",
    "            rec = \",\".join(similar_ids)\n",
    "            api_dict[\"user_recommendations\"].append({\"user_id\": str(user_id), \"recommend\": rec})\n",
    "\n",
    "        except Exception as e:\n",
    "            print(f\"{type(e).__name__} at line {e.__traceback__.tb_lineno} of {__file__}: {e}\")"
   ]
  },
  {
   "cell_type": "code",
   "execution_count": 14,
   "outputs": [
    {
     "name": "stdout",
     "output_type": "stream",
     "text": [
      "CPU times: user 6.29 s, sys: 241 ms, total: 6.53 s\n",
      "Wall time: 6.56 s\n"
     ]
    }
   ],
   "source": [
    "%%time\n",
    "\n",
    "# CSR metric generation ~ Training time (8 seconds)\n",
    "X, user_mapper, movie_mapper, user_inv_mapper, movie_inv_mapper = train()\n",
    "# cache(X, movie_mapper, movie_inv_mapper)\n"
   ],
   "metadata": {
    "collapsed": false,
    "pycharm": {
     "name": "#%%\n"
    }
   }
  },
  {
   "cell_type": "code",
   "execution_count": 19,
   "outputs": [],
   "source": [
    "import gc\n",
    "import sys\n",
    "\n",
    "def get_obj_size(obj):\n",
    "    marked = {id(obj)}\n",
    "    obj_q = [obj]\n",
    "    sz = 0\n",
    "\n",
    "    while obj_q:\n",
    "        sz += sum(map(sys.getsizeof, obj_q))\n",
    "\n",
    "        # Lookup all the object referred to by the object in obj_q.\n",
    "        # See: https://docs.python.org/3.7/library/gc.html#gc.get_referents\n",
    "        all_refr = ((id(o), o) for o in gc.get_referents(*obj_q))\n",
    "\n",
    "        # Filter object that are already marked.\n",
    "        # Using dict notation will prevent repeated objects.\n",
    "        new_refr = {o_id: o for o_id, o in all_refr if o_id not in marked and not isinstance(o, type)}\n",
    "\n",
    "        # The new obj_q will be the ones that were not marked,\n",
    "        # and we will update marked with their ids so we will\n",
    "        # not traverse them again.\n",
    "        obj_q = new_refr.values()\n",
    "        marked.update(new_refr.keys())\n",
    "\n",
    "    return sz"
   ],
   "metadata": {
    "collapsed": false,
    "pycharm": {
     "name": "#%%\n"
    }
   }
  },
  {
   "cell_type": "code",
   "execution_count": 20,
   "outputs": [
    {
     "name": "stdout",
     "output_type": "stream",
     "text": [
      "Size of the Model : 55420 bytes\n"
     ]
    }
   ],
   "source": [
    "print(\"Size of the Model : \" + str(get_obj_size(X)) + \" bytes\")"
   ],
   "metadata": {
    "collapsed": false,
    "pycharm": {
     "name": "#%%\n"
    }
   }
  },
  {
   "cell_type": "code",
   "execution_count": 21,
   "outputs": [],
   "source": [
    "rating = pd.read_csv(\"rating.csv\",\n",
    "                     names=[\"userId\", \"movieId\", \"rating\"], header=None)\n",
    "def simple_cache(X, movie_mapper, movie_inv_mapper, user_id):\n",
    "    movie_id = rating[rating['userId'] == user_id].iloc[-1]['movieId']\n",
    "    similar_ids = find_similar_movies(movie_id, X, 50, movie_mapper, movie_inv_mapper)\n",
    "    rec = \",\".join(similar_ids)\n",
    "    return rec"
   ],
   "metadata": {
    "collapsed": false,
    "pycharm": {
     "name": "#%%\n"
    }
   }
  },
  {
   "cell_type": "code",
   "execution_count": 22,
   "outputs": [
    {
     "name": "stdout",
     "output_type": "stream",
     "text": [
      "3027\n"
     ]
    }
   ],
   "source": [
    "test_df = rating\n",
    "test_df = test_df.filter(['userId', 'movieId', 'rating']).query(\"rating >= 5\")\n",
    "test_df = test_df.groupby('userId').agg({'movieId':lambda x: set(x)}).reset_index()\n",
    "\n",
    "def f(x):\n",
    "    \"\"\"\n",
    "    lambda function\n",
    "    :param x:\n",
    "    \"\"\"\n",
    "    movieIds = x['movieId']\n",
    "    if len(movieIds) >= 10:\n",
    "        return 'no'\n",
    "    else:\n",
    "        return 'yes'\n",
    "\n",
    "test_df['drop'] = test_df.apply(lambda x: f(x), axis = 1)\n",
    "\n",
    "test_df = test_df.filter(['userId', 'movieId', 'drop']).query(\"drop == 'no'\")\n",
    "test_df.head()\n",
    "print(len(test_df))"
   ],
   "metadata": {
    "collapsed": false,
    "pycharm": {
     "name": "#%%\n"
    }
   }
  },
  {
   "cell_type": "code",
   "execution_count": 23,
   "outputs": [
    {
     "name": "stdout",
     "output_type": "stream",
     "text": [
      "CPU times: user 3min 26s, sys: 20.3 s, total: 3min 46s\n",
      "Wall time: 3min 40s\n"
     ]
    },
    {
     "data": {
      "text/plain": "         userId                                    movieId  rating yes_no\n1782981  665406  austin+powers+the+spy+who+shagged+me+1999       3    yes\n920129     3767                         jerry+maguire+1996       2    yes\n1047713  444572                        wild+wild+west+1999       3    yes\n1092892  836453                        102+dalmatians+2000       1    yes\n690828   179007                  escape+from+new+york+1981       5    yes",
      "text/html": "<div>\n<style scoped>\n    .dataframe tbody tr th:only-of-type {\n        vertical-align: middle;\n    }\n\n    .dataframe tbody tr th {\n        vertical-align: top;\n    }\n\n    .dataframe thead th {\n        text-align: right;\n    }\n</style>\n<table border=\"1\" class=\"dataframe\">\n  <thead>\n    <tr style=\"text-align: right;\">\n      <th></th>\n      <th>userId</th>\n      <th>movieId</th>\n      <th>rating</th>\n      <th>yes_no</th>\n    </tr>\n  </thead>\n  <tbody>\n    <tr>\n      <th>1782981</th>\n      <td>665406</td>\n      <td>austin+powers+the+spy+who+shagged+me+1999</td>\n      <td>3</td>\n      <td>yes</td>\n    </tr>\n    <tr>\n      <th>920129</th>\n      <td>3767</td>\n      <td>jerry+maguire+1996</td>\n      <td>2</td>\n      <td>yes</td>\n    </tr>\n    <tr>\n      <th>1047713</th>\n      <td>444572</td>\n      <td>wild+wild+west+1999</td>\n      <td>3</td>\n      <td>yes</td>\n    </tr>\n    <tr>\n      <th>1092892</th>\n      <td>836453</td>\n      <td>102+dalmatians+2000</td>\n      <td>1</td>\n      <td>yes</td>\n    </tr>\n    <tr>\n      <th>690828</th>\n      <td>179007</td>\n      <td>escape+from+new+york+1981</td>\n      <td>5</td>\n      <td>yes</td>\n    </tr>\n  </tbody>\n</table>\n</div>"
     },
     "execution_count": 23,
     "metadata": {},
     "output_type": "execute_result"
    }
   ],
   "source": [
    "\n",
    "%%time\n",
    "test_df = rating.sample(n = 1000)\n",
    "def f(x):\n",
    "    \"\"\"\n",
    "    lambda function\n",
    "    :param x:\n",
    "    \"\"\"\n",
    "    user_id = x['userId']\n",
    "    movieIds = list(x['movieId'])\n",
    "    rec = simple_cache(X, movie_mapper, movie_inv_mapper, user_id)\n",
    "    for m in movieIds:\n",
    "        if m in rec:\n",
    "            return \"yes\"\n",
    "        else:\n",
    "            return \"no\"\n",
    "\n",
    "\n",
    "test_df['yes_no'] = test_df.apply(lambda x: f(x), axis = 1)\n",
    "test_df.head()\n",
    "\n",
    "\n",
    "test_df.head()\n",
    "\n"
   ],
   "metadata": {
    "collapsed": false,
    "pycharm": {
     "name": "#%%\n"
    }
   }
  },
  {
   "cell_type": "code",
   "execution_count": 24,
   "outputs": [],
   "source": [
    "yes_df = test_df.filter(['userId', 'movieId', 'rating', 'yes_no']).query(\"yes_no == 'yes'\")\n",
    "no_df = test_df.filter(['userId', 'movieId', 'rating', 'yes_no']).query(\"yes_no == 'no'\")"
   ],
   "metadata": {
    "collapsed": false,
    "pycharm": {
     "name": "#%%\n"
    }
   }
  },
  {
   "cell_type": "code",
   "execution_count": 2,
   "outputs": [
    {
     "name": "stdout",
     "output_type": "stream",
     "text": [
      "Accuracy = 0.86\n"
     ]
    }
   ],
   "source": [
    "acc = len(yes_df) / (len(yes_df) + len(no_df))\n",
    "\n",
    "print(\"Accuracy = \" + str(acc))"
   ],
   "metadata": {
    "collapsed": false,
    "pycharm": {
     "name": "#%%\n"
    }
   }
  },
  {
   "cell_type": "code",
   "execution_count": 14,
   "outputs": [
    {
     "name": "stdout",
     "output_type": "stream",
     "text": [
      "the+shawshank+redemption+1994,the+silence+of+the+lambs+1991,forrest+gump+1994,pulp+fiction+1994,the+usual+suspects+1995,dances+with+wolves+1990,apollo+13+1995,the+fugitive+1993,jurassic+park+1993,braveheart+1995,pretty+woman+1990,terminator+2+judgment+day+1991,speed+1994,the+godfather+1972,batman+1989,ghost+1990,sleepless+in+seattle+1993,four+weddings+and+a+funeral+1994,the+lion+king+1994,mrs.+doubtfire+1993CPU times: user 4.2 ms, sys: 10.2 ms, total: 14.4 ms\n",
      "Wall time: 159 ms\n"
     ]
    }
   ],
   "source": [
    "%%time\n",
    "\n",
    "!curl http://128.2.205.123:8082/recommend/163627"
   ],
   "metadata": {
    "collapsed": false,
    "pycharm": {
     "name": "#%%\n"
    }
   }
  },
  {
   "cell_type": "code",
   "execution_count": null,
   "outputs": [],
   "source": [],
   "metadata": {
    "collapsed": false,
    "pycharm": {
     "name": "#%%\n"
    }
   }
  }
 ],
 "metadata": {
  "kernelspec": {
   "display_name": "Python 3",
   "language": "python",
   "name": "python3"
  },
  "language_info": {
   "codemirror_mode": {
    "name": "ipython",
    "version": 2
   },
   "file_extension": ".py",
   "mimetype": "text/x-python",
   "name": "python",
   "nbconvert_exporter": "python",
   "pygments_lexer": "ipython2",
   "version": "2.7.6"
  }
 },
 "nbformat": 4,
 "nbformat_minor": 0
}