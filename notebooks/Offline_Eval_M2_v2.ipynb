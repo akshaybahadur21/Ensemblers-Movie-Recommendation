{
 "cells": [
  {
   "cell_type": "code",
   "execution_count": 33,
   "id": "7fa71fa3",
   "metadata": {},
   "outputs": [],
   "source": [
    "import numpy as np\n",
    "import pandas as pd\n",
    "from scipy.sparse import csr_matrix\n",
    "from sklearn.neighbors import NearestNeighbors\n",
    "from sklearn.model_selection import train_test_split\n",
    "import time\n",
    "import gc\n",
    "import sys"
   ]
  },
  {
   "cell_type": "code",
   "execution_count": 8,
   "id": "920709bc",
   "metadata": {},
   "outputs": [],
   "source": [
    "def create_matrix(df):\n",
    "    N = len(df['userId'].unique())\n",
    "    M = len(df['movieId'].unique())\n",
    "\n",
    "    # Map Ids to indices\n",
    "    user_mapper = dict(zip(np.unique(df[\"userId\"]), list(range(N))))\n",
    "    movie_mapper = dict(zip(np.unique(df[\"movieId\"]), list(range(M))))\n",
    "\n",
    "    # Map indices to IDs\n",
    "    user_inv_mapper = dict(zip(list(range(N)), np.unique(df[\"userId\"])))\n",
    "    movie_inv_mapper = dict(zip(list(range(M)), np.unique(df[\"movieId\"])))\n",
    "\n",
    "    user_index = [user_mapper[i] for i in df['userId']]\n",
    "    movie_index = [movie_mapper[i] for i in df['movieId']]\n",
    "\n",
    "    X = csr_matrix((df[\"rating\"], (movie_index, user_index)), shape=(M, N))\n",
    "\n",
    "    return X, user_mapper, movie_mapper, user_inv_mapper, movie_inv_mapper\n",
    "\n",
    "\n",
    "def find_similar_movies(movie_id, X, k, movie_mapper, movie_inv_mapper, metric='cosine', show_distance=False):\n",
    "    neighbour_ids = []\n",
    "\n",
    "    movie_ind = movie_mapper[movie_id]\n",
    "    movie_vec = X[movie_ind]\n",
    "    k += 1\n",
    "    kNN = NearestNeighbors(n_neighbors=k, algorithm=\"brute\", metric=metric)\n",
    "    kNN.fit(X)\n",
    "    movie_vec = movie_vec.reshape(1, -1)\n",
    "    neighbour = kNN.kneighbors(movie_vec, return_distance=show_distance)\n",
    "    for i in range(0, k):\n",
    "        n = neighbour.item(i)\n",
    "        neighbour_ids.append(movie_inv_mapper[n])\n",
    "    neighbour_ids.pop(0)\n",
    "    return neighbour_ids"
   ]
  },
  {
   "cell_type": "code",
   "execution_count": 55,
   "id": "0aa0e3c1",
   "metadata": {},
   "outputs": [],
   "source": [
    "def separate_train_test(movie_db):\n",
    "    train, test = train_test_split(movie_db, train_size=0.8, test_size=0.2)\n",
    "    return train, test"
   ]
  },
  {
   "cell_type": "code",
   "execution_count": 56,
   "outputs": [],
   "source": [
    "def get_obj_size(obj):\n",
    "    marked = {id(obj)}\n",
    "    obj_q = [obj]\n",
    "    sz = 0\n",
    "\n",
    "    while obj_q:\n",
    "        sz += sum(map(sys.getsizeof, obj_q))\n",
    "        all_refr = ((id(o), o) for o in gc.get_referents(*obj_q))\n",
    "        new_refr = {o_id: o for o_id, o in all_refr if o_id not in marked and not isinstance(o, type)}\n",
    "        obj_q = new_refr.values()\n",
    "        marked.update(new_refr.keys())\n",
    "\n",
    "    return sz"
   ],
   "metadata": {
    "collapsed": false,
    "pycharm": {
     "name": "#%%\n"
    }
   }
  },
  {
   "cell_type": "code",
   "execution_count": 11,
   "id": "c3e5e2c7",
   "metadata": {},
   "outputs": [],
   "source": [
    "def train(train_data):\n",
    "    ratings = train_data\n",
    "    X, user_mapper, movie_mapper, user_inv_mapper, movie_inv_mapper = create_matrix(ratings)\n",
    "    return X, user_mapper, movie_mapper, user_inv_mapper, movie_inv_mapper\n"
   ]
  },
  {
   "cell_type": "code",
   "execution_count": 57,
   "id": "c06e35de",
   "metadata": {},
   "outputs": [],
   "source": [
    "train_start_time = time.time()\n",
    "rating =  pd.read_csv(\"data/rating.csv\", names= [\"userId\", \"movieId\", \"rating\"] , header = None)\n",
    "db_train, db_test = separate_train_test(rating)\n",
    "X, user_mapper, movie_mapper, user_inv_mapper, movie_inv_mapper = train(db_train)\n",
    "train_end_time = time.time()"
   ]
  },
  {
   "cell_type": "code",
   "execution_count": 58,
   "outputs": [
    {
     "data": {
      "text/plain": "         userId                    movieId  rating\n1020243  138940          pulp+fiction+1994       3\n2003020  796543             desperado+1995       5\n506509   736202             braindead+1992       3\n1798342  909618     leaving+las+vegas+1995       4\n1599870  381636            disclosure+1994       3\n...         ...                        ...     ...\n1301979  759250             toy+story+1995       5\n1710192  913591                   ray+2004       4\n1206819  819948   romancing+the+stone+1984       5\n1598297  572704               the+net+1995       5\n347446   131874  inglourious+basterds+2009       4\n\n[411400 rows x 3 columns]",
      "text/html": "<div>\n<style scoped>\n    .dataframe tbody tr th:only-of-type {\n        vertical-align: middle;\n    }\n\n    .dataframe tbody tr th {\n        vertical-align: top;\n    }\n\n    .dataframe thead th {\n        text-align: right;\n    }\n</style>\n<table border=\"1\" class=\"dataframe\">\n  <thead>\n    <tr style=\"text-align: right;\">\n      <th></th>\n      <th>userId</th>\n      <th>movieId</th>\n      <th>rating</th>\n    </tr>\n  </thead>\n  <tbody>\n    <tr>\n      <th>1020243</th>\n      <td>138940</td>\n      <td>pulp+fiction+1994</td>\n      <td>3</td>\n    </tr>\n    <tr>\n      <th>2003020</th>\n      <td>796543</td>\n      <td>desperado+1995</td>\n      <td>5</td>\n    </tr>\n    <tr>\n      <th>506509</th>\n      <td>736202</td>\n      <td>braindead+1992</td>\n      <td>3</td>\n    </tr>\n    <tr>\n      <th>1798342</th>\n      <td>909618</td>\n      <td>leaving+las+vegas+1995</td>\n      <td>4</td>\n    </tr>\n    <tr>\n      <th>1599870</th>\n      <td>381636</td>\n      <td>disclosure+1994</td>\n      <td>3</td>\n    </tr>\n    <tr>\n      <th>...</th>\n      <td>...</td>\n      <td>...</td>\n      <td>...</td>\n    </tr>\n    <tr>\n      <th>1301979</th>\n      <td>759250</td>\n      <td>toy+story+1995</td>\n      <td>5</td>\n    </tr>\n    <tr>\n      <th>1710192</th>\n      <td>913591</td>\n      <td>ray+2004</td>\n      <td>4</td>\n    </tr>\n    <tr>\n      <th>1206819</th>\n      <td>819948</td>\n      <td>romancing+the+stone+1984</td>\n      <td>5</td>\n    </tr>\n    <tr>\n      <th>1598297</th>\n      <td>572704</td>\n      <td>the+net+1995</td>\n      <td>5</td>\n    </tr>\n    <tr>\n      <th>347446</th>\n      <td>131874</td>\n      <td>inglourious+basterds+2009</td>\n      <td>4</td>\n    </tr>\n  </tbody>\n</table>\n<p>411400 rows × 3 columns</p>\n</div>"
     },
     "execution_count": 58,
     "metadata": {},
     "output_type": "execute_result"
    }
   ],
   "source": [
    "db_test"
   ],
   "metadata": {
    "collapsed": false,
    "pycharm": {
     "name": "#%%\n"
    }
   }
  },
  {
   "cell_type": "code",
   "execution_count": 67,
   "outputs": [],
   "source": [
    "test_df = db_test.filter(['userId', 'movieId', 'rating']).query(\"rating >= 5\")\n",
    "test_df = test_df.groupby('userId').agg({'movieId':lambda x: set(x)}).reset_index()\n",
    "\n",
    "def f(x):\n",
    "    \"\"\"\n",
    "    lambda function\n",
    "    :param x:\n",
    "    \"\"\"\n",
    "    movieIds = x['movieId']\n",
    "    if len(movieIds) >= 4:\n",
    "        return 'no'\n",
    "    else:\n",
    "        return 'yes'\n",
    "\n",
    "test_df['drop'] = test_df.apply(lambda x: f(x), axis = 1)\n",
    "\n",
    "test_df = test_df.filter(['userId', 'movieId', 'drop']).query(\"drop == 'no'\")"
   ],
   "metadata": {
    "collapsed": false,
    "pycharm": {
     "name": "#%%\n"
    }
   }
  },
  {
   "cell_type": "code",
   "execution_count": 68,
   "outputs": [],
   "source": [
    "def simple_cache(X, movie_mapper, movie_inv_mapper, user_id):\n",
    "    movie_id = rating[rating['userId'] == user_id].iloc[-1]['movieId']\n",
    "    similar_ids = find_similar_movies(movie_id, X, 50, movie_mapper, movie_inv_mapper)\n",
    "    rec = \",\".join(similar_ids)\n",
    "    return rec"
   ],
   "metadata": {
    "collapsed": false,
    "pycharm": {
     "name": "#%%\n"
    }
   }
  },
  {
   "cell_type": "code",
   "execution_count": 71,
   "outputs": [
    {
     "name": "stdout",
     "output_type": "stream",
     "text": [
      "Exception\n"
     ]
    },
    {
     "data": {
      "text/plain": "     userId                                            movieId drop yes_no\n126    1809  {get+shorty+1995, rudy+1993, goldfinger+1964, ...   no     no\n145    2174  {tombstone+1993, casablanca+1942, swiss+family...   no     no\n217    3156  {the+lord+of+the+rings+the+fellowship+of+the+r...   no     no\n248    3800  {blade+runner+1982, modern+times+1936, thirty+...   no     no\n296    4651  {no+country+for+old+men+2007, for+a+few+dollar...   no     no",
      "text/html": "<div>\n<style scoped>\n    .dataframe tbody tr th:only-of-type {\n        vertical-align: middle;\n    }\n\n    .dataframe tbody tr th {\n        vertical-align: top;\n    }\n\n    .dataframe thead th {\n        text-align: right;\n    }\n</style>\n<table border=\"1\" class=\"dataframe\">\n  <thead>\n    <tr style=\"text-align: right;\">\n      <th></th>\n      <th>userId</th>\n      <th>movieId</th>\n      <th>drop</th>\n      <th>yes_no</th>\n    </tr>\n  </thead>\n  <tbody>\n    <tr>\n      <th>126</th>\n      <td>1809</td>\n      <td>{get+shorty+1995, rudy+1993, goldfinger+1964, ...</td>\n      <td>no</td>\n      <td>no</td>\n    </tr>\n    <tr>\n      <th>145</th>\n      <td>2174</td>\n      <td>{tombstone+1993, casablanca+1942, swiss+family...</td>\n      <td>no</td>\n      <td>no</td>\n    </tr>\n    <tr>\n      <th>217</th>\n      <td>3156</td>\n      <td>{the+lord+of+the+rings+the+fellowship+of+the+r...</td>\n      <td>no</td>\n      <td>no</td>\n    </tr>\n    <tr>\n      <th>248</th>\n      <td>3800</td>\n      <td>{blade+runner+1982, modern+times+1936, thirty+...</td>\n      <td>no</td>\n      <td>no</td>\n    </tr>\n    <tr>\n      <th>296</th>\n      <td>4651</td>\n      <td>{no+country+for+old+men+2007, for+a+few+dollar...</td>\n      <td>no</td>\n      <td>no</td>\n    </tr>\n  </tbody>\n</table>\n</div>"
     },
     "execution_count": 71,
     "metadata": {},
     "output_type": "execute_result"
    }
   ],
   "source": [
    "def f(x):\n",
    "    \"\"\"\n",
    "    lambda function\n",
    "    :param x:\n",
    "    \"\"\"\n",
    "    try:\n",
    "        user_id = x['userId']\n",
    "        movieIds = list(x['movieId'])\n",
    "        rec = simple_cache(X, movie_mapper, movie_inv_mapper, user_id)\n",
    "        for m in movieIds:\n",
    "            if m in rec:\n",
    "                return \"yes\"\n",
    "            else:\n",
    "                return \"no\"\n",
    "    except Exception:\n",
    "        print(\"Exception\")\n",
    "        return \"no\"\n",
    "\n",
    "test_start_time  = time.time()\n",
    "test_df['yes_no'] = test_df.apply(lambda x: f(x), axis = 1)\n",
    "test_df.head()\n",
    "\n",
    "\n",
    "test_df.head()"
   ],
   "metadata": {
    "collapsed": false,
    "pycharm": {
     "name": "#%%\n"
    }
   }
  },
  {
   "cell_type": "code",
   "execution_count": 80,
   "id": "556cc8c7",
   "metadata": {},
   "outputs": [
    {
     "name": "stdout",
     "output_type": "stream",
     "text": [
      "Offline evaluation completed.\n",
      "Number of filtered testing sample : 1442\n",
      "Ratio of train : test = 80.0% : 20.0%\n",
      "Size of the Model : 53320 bytes\n",
      "Training Latency : 6.419741868972778 seconds\n",
      "Testing Latency : 1076.5595302581787 seconds\n",
      "Number of hits : 1220\n",
      "Number of misses : 222\n",
      "Hit Rate = 85%\n",
      "Miss Rate = 15%\n"
     ]
    }
   ],
   "source": [
    "misses = len(test_df.filter(['userId', 'movieId', 'rating', 'yes_no']).query(\"yes_no == 'yes'\"))\n",
    "hits = len(test_df.filter(['userId', 'movieId', 'rating', 'yes_no']).query(\"yes_no == 'no'\"))\n",
    "test_end_time = time.time()\n",
    "\n",
    "print(\"Offline evaluation completed.\")\n",
    "print(\"Number of filtered testing sample : {}\".format(len(test_df)))\n",
    "print(\n",
    "    \"Ratio of train : test = {}% : {}%\".format(round(len(db_train) * 100 / (len(db_train) + len(db_test)), 2),\n",
    "                                               round((len(db_test) * 100 / (len(db_train) + len(db_test))), 2)))\n",
    "print(\"Size of the Model : \" + str(get_obj_size(X)) + \" bytes\")\n",
    "print(\"Training Latency : {} seconds\".format(train_end_time - train_start_time))\n",
    "print(\"Testing Latency : {} seconds\".format(test_end_time - test_start_time))\n",
    "print(\"Number of hits : {}\".format(hits))\n",
    "print(\"Number of misses : {}\".format(misses))\n",
    "print(\"Hit Rate = {}%\".format(round(hits * 100 / (misses + hits)), 2))\n",
    "print(\"Miss Rate = {}%\".format(round(misses * 100 / (misses + hits)), 2))"
   ]
  },
  {
   "cell_type": "code",
   "execution_count": 82,
   "id": "2256b41d",
   "metadata": {
    "pycharm": {
     "name": "#%%\n"
    }
   },
   "outputs": [],
   "source": [
    "# Offline evaluation completed.\n",
    "# Number of filtered testing sample : 1442\n",
    "# Ratio of train : test = 80.0% : 20.0%\n",
    "# Size of the Model : 53320 bytes\n",
    "# Training Latency : 6.419741868972778 seconds\n",
    "# Testing Latency : 1076.5595302581787 seconds\n",
    "# Number of hits : 1220\n",
    "# Number of misses : 222\n",
    "# Hit Rate = 85%\n",
    "# Miss Rate = 15%"
   ]
  },
  {
   "cell_type": "code",
   "execution_count": null,
   "outputs": [],
   "source": [],
   "metadata": {
    "collapsed": false,
    "pycharm": {
     "name": "#%%\n"
    }
   }
  }
 ],
 "metadata": {
  "kernelspec": {
   "display_name": "Python 3 (ipykernel)",
   "language": "python",
   "name": "python3"
  },
  "language_info": {
   "codemirror_mode": {
    "name": "ipython",
    "version": 3
   },
   "file_extension": ".py",
   "mimetype": "text/x-python",
   "name": "python",
   "nbconvert_exporter": "python",
   "pygments_lexer": "ipython3",
   "version": "3.8.10"
  }
 },
 "nbformat": 4,
 "nbformat_minor": 5
}