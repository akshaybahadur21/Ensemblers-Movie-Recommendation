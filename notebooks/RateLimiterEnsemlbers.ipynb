{
  "nbformat": 4,
  "nbformat_minor": 0,
  "metadata": {
    "colab": {
      "name": "RateLimiterEnsemlbers.ipynb",
      "provenance": []
    },
    "kernelspec": {
      "name": "python3",
      "display_name": "Python 3"
    },
    "language_info": {
      "name": "python"
    }
  },
  "cells": [
    {
      "cell_type": "code",
      "execution_count": 1,
      "metadata": {
        "colab": {
          "base_uri": "https://localhost:8080/"
        },
        "id": "HjkdtGdpdWgN",
        "outputId": "dd31c7c8-dc5f-41ef-f659-370dc44a6639"
      },
      "outputs": [
        {
          "output_type": "stream",
          "name": "stdout",
          "text": [
            "Collecting flask-ngrok\n",
            "  Downloading flask_ngrok-0.0.25-py3-none-any.whl (3.1 kB)\n",
            "Requirement already satisfied: Flask>=0.8 in /usr/local/lib/python3.7/dist-packages (from flask-ngrok) (1.1.4)\n",
            "Requirement already satisfied: requests in /usr/local/lib/python3.7/dist-packages (from flask-ngrok) (2.23.0)\n",
            "Requirement already satisfied: Werkzeug<2.0,>=0.15 in /usr/local/lib/python3.7/dist-packages (from Flask>=0.8->flask-ngrok) (1.0.1)\n",
            "Requirement already satisfied: itsdangerous<2.0,>=0.24 in /usr/local/lib/python3.7/dist-packages (from Flask>=0.8->flask-ngrok) (1.1.0)\n",
            "Requirement already satisfied: click<8.0,>=5.1 in /usr/local/lib/python3.7/dist-packages (from Flask>=0.8->flask-ngrok) (7.1.2)\n",
            "Requirement already satisfied: Jinja2<3.0,>=2.10.1 in /usr/local/lib/python3.7/dist-packages (from Flask>=0.8->flask-ngrok) (2.11.3)\n",
            "Requirement already satisfied: MarkupSafe>=0.23 in /usr/local/lib/python3.7/dist-packages (from Jinja2<3.0,>=2.10.1->Flask>=0.8->flask-ngrok) (2.0.1)\n",
            "Requirement already satisfied: urllib3!=1.25.0,!=1.25.1,<1.26,>=1.21.1 in /usr/local/lib/python3.7/dist-packages (from requests->flask-ngrok) (1.24.3)\n",
            "Requirement already satisfied: chardet<4,>=3.0.2 in /usr/local/lib/python3.7/dist-packages (from requests->flask-ngrok) (3.0.4)\n",
            "Requirement already satisfied: certifi>=2017.4.17 in /usr/local/lib/python3.7/dist-packages (from requests->flask-ngrok) (2021.10.8)\n",
            "Requirement already satisfied: idna<3,>=2.5 in /usr/local/lib/python3.7/dist-packages (from requests->flask-ngrok) (2.10)\n",
            "Installing collected packages: flask-ngrok\n",
            "Successfully installed flask-ngrok-0.0.25\n"
          ]
        }
      ],
      "source": [
        "!pip install flask-ngrok"
      ]
    },
    {
      "cell_type": "code",
      "source": [
        "import pandas as pd\n",
        "from flask_ngrok import run_with_ngrok\n",
        "from flask import request, jsonify, Flask\n",
        "import random as rk"
      ],
      "metadata": {
        "id": "p4IqkC4Jdcih"
      },
      "execution_count": 3,
      "outputs": []
    },
    {
      "cell_type": "code",
      "source": [
        "!pip install flask_limiter"
      ],
      "metadata": {
        "colab": {
          "base_uri": "https://localhost:8080/",
          "height": 1000
        },
        "id": "MFZ3BvUpg2BA",
        "outputId": "b2c633cb-aabd-4301-bce8-3f19adeca03f"
      },
      "execution_count": 3,
      "outputs": [
        {
          "output_type": "stream",
          "name": "stdout",
          "text": [
            "Collecting flask_limiter\n",
            "  Downloading Flask_Limiter-2.4.5.1-py3-none-any.whl (24 kB)\n",
            "Collecting rich<13,>=12\n",
            "  Downloading rich-12.3.0-py3-none-any.whl (232 kB)\n",
            "\u001b[K     |████████████████████████████████| 232 kB 5.0 MB/s \n",
            "\u001b[?25hCollecting Flask>=2\n",
            "  Downloading Flask-2.1.2-py3-none-any.whl (95 kB)\n",
            "\u001b[K     |████████████████████████████████| 95 kB 3.7 MB/s \n",
            "\u001b[?25hCollecting limits>=2.3\n",
            "  Downloading limits-2.6.1-py3-none-any.whl (40 kB)\n",
            "\u001b[K     |████████████████████████████████| 40 kB 4.7 MB/s \n",
            "\u001b[?25hRequirement already satisfied: typing-extensions in /usr/local/lib/python3.7/dist-packages (from flask_limiter) (4.2.0)\n",
            "Collecting click>=8.0\n",
            "  Downloading click-8.1.3-py3-none-any.whl (96 kB)\n",
            "\u001b[K     |████████████████████████████████| 96 kB 4.9 MB/s \n",
            "\u001b[?25hCollecting Jinja2>=3.0\n",
            "  Downloading Jinja2-3.1.2-py3-none-any.whl (133 kB)\n",
            "\u001b[K     |████████████████████████████████| 133 kB 49.8 MB/s \n",
            "\u001b[?25hCollecting itsdangerous>=2.0\n",
            "  Downloading itsdangerous-2.1.2-py3-none-any.whl (15 kB)\n",
            "Requirement already satisfied: importlib-metadata>=3.6.0 in /usr/local/lib/python3.7/dist-packages (from Flask>=2->flask_limiter) (4.11.3)\n",
            "Collecting Werkzeug>=2.0\n",
            "  Downloading Werkzeug-2.1.2-py3-none-any.whl (224 kB)\n",
            "\u001b[K     |████████████████████████████████| 224 kB 53.6 MB/s \n",
            "\u001b[?25hRequirement already satisfied: zipp>=0.5 in /usr/local/lib/python3.7/dist-packages (from importlib-metadata>=3.6.0->Flask>=2->flask_limiter) (3.8.0)\n",
            "Requirement already satisfied: MarkupSafe>=2.0 in /usr/local/lib/python3.7/dist-packages (from Jinja2>=3.0->Flask>=2->flask_limiter) (2.0.1)\n",
            "Requirement already satisfied: packaging<22,>=21 in /usr/local/lib/python3.7/dist-packages (from limits>=2.3->flask_limiter) (21.3)\n",
            "Requirement already satisfied: setuptools in /usr/local/lib/python3.7/dist-packages (from limits>=2.3->flask_limiter) (57.4.0)\n",
            "Collecting deprecated>=1.2\n",
            "  Downloading Deprecated-1.2.13-py2.py3-none-any.whl (9.6 kB)\n",
            "Requirement already satisfied: wrapt<2,>=1.10 in /usr/local/lib/python3.7/dist-packages (from deprecated>=1.2->limits>=2.3->flask_limiter) (1.14.0)\n",
            "Requirement already satisfied: pyparsing!=3.0.5,>=2.0.2 in /usr/local/lib/python3.7/dist-packages (from packaging<22,>=21->limits>=2.3->flask_limiter) (3.0.8)\n",
            "Requirement already satisfied: pygments<3.0.0,>=2.6.0 in /usr/local/lib/python3.7/dist-packages (from rich<13,>=12->flask_limiter) (2.6.1)\n",
            "Collecting commonmark<0.10.0,>=0.9.0\n",
            "  Downloading commonmark-0.9.1-py2.py3-none-any.whl (51 kB)\n",
            "\u001b[K     |████████████████████████████████| 51 kB 5.6 MB/s \n",
            "\u001b[?25hInstalling collected packages: Werkzeug, Jinja2, itsdangerous, deprecated, commonmark, click, rich, limits, Flask, flask-limiter\n",
            "  Attempting uninstall: Werkzeug\n",
            "    Found existing installation: Werkzeug 1.0.1\n",
            "    Uninstalling Werkzeug-1.0.1:\n",
            "      Successfully uninstalled Werkzeug-1.0.1\n",
            "  Attempting uninstall: Jinja2\n",
            "    Found existing installation: Jinja2 2.11.3\n",
            "    Uninstalling Jinja2-2.11.3:\n",
            "      Successfully uninstalled Jinja2-2.11.3\n",
            "  Attempting uninstall: itsdangerous\n",
            "    Found existing installation: itsdangerous 1.1.0\n",
            "    Uninstalling itsdangerous-1.1.0:\n",
            "      Successfully uninstalled itsdangerous-1.1.0\n",
            "  Attempting uninstall: click\n",
            "    Found existing installation: click 7.1.2\n",
            "    Uninstalling click-7.1.2:\n",
            "      Successfully uninstalled click-7.1.2\n",
            "  Attempting uninstall: Flask\n",
            "    Found existing installation: Flask 1.1.4\n",
            "    Uninstalling Flask-1.1.4:\n",
            "      Successfully uninstalled Flask-1.1.4\n",
            "\u001b[31mERROR: pip's dependency resolver does not currently take into account all the packages that are installed. This behaviour is the source of the following dependency conflicts.\n",
            "datascience 0.10.6 requires folium==0.2.1, but you have folium 0.8.3 which is incompatible.\u001b[0m\n",
            "Successfully installed Flask-2.1.2 Jinja2-3.1.2 Werkzeug-2.1.2 click-8.1.3 commonmark-0.9.1 deprecated-1.2.13 flask-limiter-2.4.5.1 itsdangerous-2.1.2 limits-2.6.1 rich-12.3.0\n"
          ]
        },
        {
          "output_type": "display_data",
          "data": {
            "application/vnd.colab-display-data+json": {
              "pip_warning": {
                "packages": [
                  "click",
                  "flask",
                  "itsdangerous",
                  "jinja2",
                  "werkzeug"
                ]
              }
            }
          },
          "metadata": {}
        }
      ]
    },
    {
      "cell_type": "code",
      "source": [
        "from flask_limiter import Limiter\n",
        "from flask_limiter.util import get_remote_address"
      ],
      "metadata": {
        "id": "ccd5Eurkg1GX"
      },
      "execution_count": 1,
      "outputs": []
    },
    {
      "cell_type": "code",
      "source": [
        "app = Flask(__name__) #the name of the application package\n",
        "run_with_ngrok(app)"
      ],
      "metadata": {
        "id": "DcU9DjbLdf4g"
      },
      "execution_count": 4,
      "outputs": []
    },
    {
      "cell_type": "code",
      "source": [
        "d = {\n",
        "    \"team\": \"Ensemblers\", \n",
        "    \"movies\": \"a+close+shave+1995,stalker+1979,black+sea+2014,the+philadelphia+story+1940,charlie+wilsons+war+2007,true+lies+1994,black+cat_+white+cat+1998,female+perversions+1996,schindlers+list+1993,el+mariachi+1992,dinosaur+2000,dream+house+2011,the+conformist+1970,female+perversions+1996,down+and+out+in+beverly+hills+1986,stalker+1979,aladdin+1992,the+lion+king+1994,hamlet+1996,waking+life+2001\"\n",
        "      }\n",
        "\n",
        "\n",
        "@app.route(\"/\")\n",
        "def home():\n",
        "  return \"Go to /recommend_free for free access or recommend_limited for 5 requests per minute\"\n",
        "\n",
        "limiter = Limiter(\n",
        "    app,\n",
        "    key_func=get_remote_address,\n",
        "    default_limits=[\"200 per day\", \"50 per hour\"]\n",
        ")\n",
        "\n",
        "\n",
        "@app.route(\"/recommend_limited\")\n",
        "@limiter.limit(\"5 per minute\")\n",
        "def recommend_limited():\n",
        "  return jsonify(d)\n",
        "\n",
        "@app.route(\"/recommend_free\")\n",
        "@limiter.exempt\n",
        "def recommend_free():\n",
        "  return jsonify(d)\n",
        "\n",
        "app.run()"
      ],
      "metadata": {
        "colab": {
          "base_uri": "https://localhost:8080/"
        },
        "id": "uE4mOspgefdX",
        "outputId": "7461e5f3-aec6-4c7f-c1e8-5f0b8aaea103"
      },
      "execution_count": 5,
      "outputs": [
        {
          "output_type": "stream",
          "name": "stdout",
          "text": [
            " * Serving Flask app '__main__' (lazy loading)\n",
            " * Environment: production\n",
            "\u001b[31m   WARNING: This is a development server. Do not use it in a production deployment.\u001b[0m\n",
            "\u001b[2m   Use a production WSGI server instead.\u001b[0m\n",
            " * Debug mode: off\n"
          ]
        },
        {
          "output_type": "stream",
          "name": "stderr",
          "text": [
            " * Running on http://127.0.0.1:5000 (Press CTRL+C to quit)\n"
          ]
        },
        {
          "output_type": "stream",
          "name": "stdout",
          "text": [
            " * Running on http://2e31-35-201-206-253.ngrok.io\n",
            " * Traffic stats available on http://127.0.0.1:4040\n"
          ]
        },
        {
          "output_type": "stream",
          "name": "stderr",
          "text": [
            "127.0.0.1 - - [28/Apr/2022 23:43:27] \"GET /recommend_free HTTP/1.1\" 200 -\n",
            "127.0.0.1 - - [28/Apr/2022 23:43:48] \"GET /recommend_limited HTTP/1.1\" 200 -\n",
            "127.0.0.1 - - [28/Apr/2022 23:44:02] \"GET /recommend_limited HTTP/1.1\" 200 -\n",
            "127.0.0.1 - - [28/Apr/2022 23:44:03] \"GET /recommend_limited HTTP/1.1\" 200 -\n",
            "127.0.0.1 - - [28/Apr/2022 23:44:03] \"GET /recommend_limited HTTP/1.1\" 200 -\n",
            "127.0.0.1 - - [28/Apr/2022 23:44:04] \"GET /recommend_limited HTTP/1.1\" 200 -\n",
            "127.0.0.1 - - [28/Apr/2022 23:44:04] \"\u001b[31m\u001b[1mGET /recommend_limited HTTP/1.1\u001b[0m\" 429 -\n",
            "127.0.0.1 - - [28/Apr/2022 23:44:18] \"GET /recommend_free HTTP/1.1\" 200 -\n",
            "127.0.0.1 - - [28/Apr/2022 23:44:21] \"\u001b[31m\u001b[1mGET /recommend_limited HTTP/1.1\u001b[0m\" 429 -\n",
            "127.0.0.1 - - [28/Apr/2022 23:45:00] \"GET /recommend_free HTTP/1.1\" 200 -\n",
            "127.0.0.1 - - [28/Apr/2022 23:45:00] \"GET /recommend_free HTTP/1.1\" 200 -\n",
            "127.0.0.1 - - [28/Apr/2022 23:45:01] \"GET /recommend_free HTTP/1.1\" 200 -\n",
            "127.0.0.1 - - [28/Apr/2022 23:45:01] \"GET /recommend_free HTTP/1.1\" 200 -\n",
            "127.0.0.1 - - [28/Apr/2022 23:45:02] \"GET /recommend_free HTTP/1.1\" 200 -\n",
            "127.0.0.1 - - [28/Apr/2022 23:45:11] \"GET /recommend_limited HTTP/1.1\" 200 -\n",
            "127.0.0.1 - - [28/Apr/2022 23:45:12] \"GET /recommend_limited HTTP/1.1\" 200 -\n",
            "127.0.0.1 - - [28/Apr/2022 23:45:12] \"GET /recommend_limited HTTP/1.1\" 200 -\n",
            "127.0.0.1 - - [28/Apr/2022 23:45:13] \"GET /recommend_limited HTTP/1.1\" 200 -\n",
            "127.0.0.1 - - [28/Apr/2022 23:45:14] \"GET /recommend_limited HTTP/1.1\" 200 -\n",
            "127.0.0.1 - - [28/Apr/2022 23:45:25] \"\u001b[31m\u001b[1mGET /recommend_limited HTTP/1.1\u001b[0m\" 429 -\n",
            "127.0.0.1 - - [28/Apr/2022 23:45:26] \"\u001b[31m\u001b[1mGET /recommend_limited HTTP/1.1\u001b[0m\" 429 -\n",
            "127.0.0.1 - - [28/Apr/2022 23:45:26] \"\u001b[31m\u001b[1mGET /recommend_limited HTTP/1.1\u001b[0m\" 429 -\n",
            "127.0.0.1 - - [28/Apr/2022 23:45:27] \"\u001b[31m\u001b[1mGET /recommend_limited HTTP/1.1\u001b[0m\" 429 -\n",
            "127.0.0.1 - - [28/Apr/2022 23:45:28] \"\u001b[31m\u001b[1mGET /recommend_limited HTTP/1.1\u001b[0m\" 429 -\n"
          ]
        }
      ]
    },
    {
      "cell_type": "code",
      "source": [
        ""
      ],
      "metadata": {
        "id": "eLIiDkL6eZFw"
      },
      "execution_count": 7,
      "outputs": []
    }
  ]
}